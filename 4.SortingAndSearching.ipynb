{
 "cells": [
  {
   "cell_type": "markdown",
   "metadata": {},
   "source": [
    "#Sorting and Searching  \n",
    "1. Sequential Search\n",
    "2. Binary Search\n",
    "3. Hashing\n",
    "4. Bubble Sort\n",
    "5. Selection Sort\n",
    "6. Insert Sort\n",
    "7. Shell Sort\n",
    "8. Merge Sort\n",
    "9. Quick Sort"
   ]
  },
  {
   "cell_type": "markdown",
   "metadata": {},
   "source": [
    "##1. Sequential Search"
   ]
  },
  {
   "cell_type": "code",
   "execution_count": 3,
   "metadata": {
    "collapsed": false
   },
   "outputs": [
    {
     "data": {
      "text/plain": [
       "False"
      ]
     },
     "execution_count": 3,
     "metadata": {},
     "output_type": "execute_result"
    }
   ],
   "source": [
    "def sequentialSearch(aList, item):\n",
    "    idx = 0\n",
    "    while(idx < len(aList)):\n",
    "        if aList[idx] == item:\n",
    "            return True\n",
    "        idx += 1\n",
    "    return False\n",
    "\n",
    "testlist = [1, 2, 32, 8, 17, 19, 42, 13, 0]\n",
    "sequentialSearch(testlist, 3)"
   ]
  },
  {
   "cell_type": "markdown",
   "metadata": {},
   "source": [
    "##2. Binary Search"
   ]
  },
  {
   "cell_type": "code",
   "execution_count": 12,
   "metadata": {
    "collapsed": false
   },
   "outputs": [
    {
     "data": {
      "text/plain": [
       "False"
      ]
     },
     "execution_count": 12,
     "metadata": {},
     "output_type": "execute_result"
    }
   ],
   "source": [
    "def binarySearch(aList, item):\n",
    "    if len(aList) == 0:\n",
    "        return False\n",
    "    mid = len(aList) / 2\n",
    "    if aList[mid] == item:\n",
    "        return True\n",
    "    elif aList[mid] > item:\n",
    "        return binarySearch(aList[:mid], item)\n",
    "    else:\n",
    "        return binarySearch(aList[mid+1:], item)\n",
    "    \n",
    "testlist = [1, 2, 32, 8, 17, 19, 42, 13, 0]\n",
    "binarySearch(testlist, 3)"
   ]
  },
  {
   "cell_type": "markdown",
   "metadata": {},
   "source": [
    "**一个特殊情况如下，len(a)等于1的情况，那么分解之后前后两个list都是空的，然后就会到达len(a)==0的那个判断。**"
   ]
  },
  {
   "cell_type": "code",
   "execution_count": 15,
   "metadata": {
    "collapsed": false
   },
   "outputs": [
    {
     "data": {
      "text/plain": [
       "[]"
      ]
     },
     "execution_count": 15,
     "metadata": {},
     "output_type": "execute_result"
    }
   ],
   "source": [
    "a = [3]\n",
    "mid = len(a) / 2  # mid=0\n",
    "a[:mid]"
   ]
  },
  {
   "cell_type": "code",
   "execution_count": 16,
   "metadata": {
    "collapsed": false
   },
   "outputs": [
    {
     "data": {
      "text/plain": [
       "[]"
      ]
     },
     "execution_count": 16,
     "metadata": {},
     "output_type": "execute_result"
    }
   ],
   "source": [
    "a[mid+1:]"
   ]
  },
  {
   "cell_type": "markdown",
   "metadata": {},
   "source": [
    "## 3. Hashing"
   ]
  },
  {
   "cell_type": "markdown",
   "metadata": {},
   "source": [
    "##4. Bubble Sort  \n",
    "- 第一轮，从index=0开始往后比，一个接一个的跟后一个比，大的往后换，直到最后，保证最大的数换到最后一个位置(index=N-1)。\n",
    "- 第二轮，还是从index=0开始往后换，到最后换到保证倒数第二个位置(index=N-2)的数是此轮换的最大的。\n",
    "- 依次类推，直到第（N-1）轮，保证第二个位置（index=1）的数是此轮最大的。Done。\n"
   ]
  },
  {
   "cell_type": "code",
   "execution_count": 19,
   "metadata": {
    "collapsed": false
   },
   "outputs": [
    {
     "data": {
      "text/plain": [
       "[17, 20, 26, 31, 44, 54, 55, 77, 93]"
      ]
     },
     "execution_count": 19,
     "metadata": {},
     "output_type": "execute_result"
    }
   ],
   "source": [
    "def bubbleSort(aList):\n",
    "    n = len(aList)\n",
    "    for rnd in range(1, n):\n",
    "        for idx in range(n-rnd):\n",
    "            if aList[idx] > aList[idx+1]:\n",
    "                temp = aList[idx]\n",
    "                aList[idx] = aList[idx+1]\n",
    "                aList[idx+1] = temp\n",
    "\n",
    "alist = [54,26,93,17,77,31,44,55,20]\n",
    "bubbleSort(alist)\n",
    "alist"
   ]
  },
  {
   "cell_type": "markdown",
   "metadata": {},
   "source": [
    "##5. Selection Sort\n",
    "- 第一轮， 从头到尾先找到maxValue，然后把它跟最后一个(index=N-1)换位置。\n",
    "- 第二轮， 把剩下的最大的跟倒数第二(index=N-2)换位置。\n",
    "- 以此类推，最后一轮(N-1)轮，把最大的跟(index=N-(N-1)=1)的位置的数换一下位置。"
   ]
  },
  {
   "cell_type": "code",
   "execution_count": 20,
   "metadata": {
    "collapsed": false
   },
   "outputs": [
    {
     "data": {
      "text/plain": [
       "[17, 20, 26, 31, 44, 54, 55, 77, 93]"
      ]
     },
     "execution_count": 20,
     "metadata": {},
     "output_type": "execute_result"
    }
   ],
   "source": [
    "def selectionSort(aList):\n",
    "    N = len(aList)\n",
    "    for rnd in range(1, N):\n",
    "        maxLocation = 0\n",
    "        for idx in range(1, N+1-rnd):\n",
    "            if aList[idx] > aList[maxLocation]:\n",
    "                maxLocation = idx\n",
    "        temp = aList[maxLocation]\n",
    "        aList[maxLocation] = aList[N-rnd]\n",
    "        aList[N-rnd] = temp\n",
    "\n",
    "alist = [54,26,93,17,77,31,44,55,20]\n",
    "selectionSort(alist)\n",
    "alist        "
   ]
  },
  {
   "cell_type": "markdown",
   "metadata": {},
   "source": [
    "##6. Insertion Sort\n",
    "- 第一轮，从index=1开始，往前找到它该插入的位置，插入。\n",
    "- 以此类推\n",
    "- 第N-1轮，index=N-1， 往前找它该插入的位置，插入。"
   ]
  },
  {
   "cell_type": "code",
   "execution_count": 22,
   "metadata": {
    "collapsed": false
   },
   "outputs": [
    {
     "data": {
      "text/plain": [
       "[17, 20, 26, 31, 44, 54, 55, 77, 93]"
      ]
     },
     "execution_count": 22,
     "metadata": {},
     "output_type": "execute_result"
    }
   ],
   "source": [
    "def insertionSort(aList):\n",
    "    N = len(aList)\n",
    "    for rnd in range(1, N):\n",
    "        idx = rnd\n",
    "        insertValue = aList[idx]\n",
    "        while (idx>0) and (aList[idx-1]>insertValue):\n",
    "            aList[idx] = aList[idx-1]\n",
    "            idx -= 1\n",
    "        aList[idx] = insertValue\n",
    "        \n",
    "alist = [54,26,93,17,77,31,44,55,20]\n",
    "insertionSort(alist)\n",
    "alist "
   ]
  },
  {
   "cell_type": "markdown",
   "metadata": {},
   "source": [
    "##7. Shell Sort\n",
    "- 对于一个给定的gap，比如说gap=3，那么[0,1,2,3,4,5,6,7]中，index=0,3,6的一组；index=1,4,7的一组；index=2,5的一组。\n",
    "- 注意，gap等于几，就会分成几组。比如说，gap=3，那么就会分成三组。\n",
    "- 对于每一组，分别进行insertion sort,这里用函数shellInsertionSort(aList, start, gap)来实现。\n",
    "- insertion sort其实就是gap=1的shellInsertionSort(aList, start=0, gap=1)。\n",
    "- 整个一个shell sort流程，从选取gap=N/2开始，然后是N/4，N/8,N/16，...，直到gap=1结束。"
   ]
  },
  {
   "cell_type": "code",
   "execution_count": 2,
   "metadata": {
    "collapsed": false
   },
   "outputs": [
    {
     "data": {
      "text/plain": [
       "[17, 20, 26, 31, 44, 54, 55, 77, 93]"
      ]
     },
     "execution_count": 2,
     "metadata": {},
     "output_type": "execute_result"
    }
   ],
   "source": [
    "def shellInsertionSort(aList, startIdx, gap):\n",
    "    for rnd in range(startIdx+gap, len(aList), gap):\n",
    "        idx = rnd\n",
    "        insertValue = aList[idx]\n",
    "        while (idx>startIdx) and (insertValue<aList[idx-gap]):\n",
    "            aList[idx] = aList[idx-gap]\n",
    "            idx -= gap\n",
    "        aList[idx] = insertValue\n",
    "        \n",
    "def shellSort(aList):\n",
    "    gap = len(aList) / 2\n",
    "    while (gap>=1):\n",
    "        for startIdx in range(gap):\n",
    "            shellInsertionSort(aList, startIdx, gap)\n",
    "        gap /= 2\n",
    "        \n",
    "alist = [54,26,93,17,77,31,44,55,20]\n",
    "shellSort(alist)\n",
    "alist   "
   ]
  },
  {
   "cell_type": "code",
   "execution_count": 1,
   "metadata": {
    "collapsed": false
   },
   "outputs": [
    {
     "data": {
      "text/plain": [
       "[1, 3, 5, 7, 9]"
      ]
     },
     "execution_count": 1,
     "metadata": {},
     "output_type": "execute_result"
    }
   ],
   "source": [
    "range(1, 10, 2)"
   ]
  },
  {
   "cell_type": "code",
   "execution_count": null,
   "metadata": {
    "collapsed": true
   },
   "outputs": [],
   "source": []
  }
 ],
 "metadata": {
  "kernelspec": {
   "display_name": "Python 2",
   "language": "python",
   "name": "python2"
  },
  "language_info": {
   "codemirror_mode": {
    "name": "ipython",
    "version": 2
   },
   "file_extension": ".py",
   "mimetype": "text/x-python",
   "name": "python",
   "nbconvert_exporter": "python",
   "pygments_lexer": "ipython2",
   "version": "2.7.9"
  }
 },
 "nbformat": 4,
 "nbformat_minor": 0
}
