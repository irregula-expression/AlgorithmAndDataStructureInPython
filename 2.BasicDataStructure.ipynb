{
 "cells": [
  {
   "cell_type": "markdown",
   "metadata": {},
   "source": [
    "#Basic Data Structure \n",
    "1. Stack  \n",
    "1.1 Implementation  \n",
    "1.2 Simple Balance Parentheses  \n",
    "1.3 Converting Decimal Numbers to Binary Numbers  \n",
    "1.4 Infix to Postfix\n",
    "1.5 Evaluate Postfix\n",
    "2. Queue  \n",
    "2.1 Implementation  \n",
    "2.2 Printing Task Simulation"
   ]
  },
  {
   "cell_type": "markdown",
   "metadata": {},
   "source": [
    "##1. Stack"
   ]
  },
  {
   "cell_type": "markdown",
   "metadata": {},
   "source": [
    "**1.1 Implementation**"
   ]
  },
  {
   "cell_type": "code",
   "execution_count": 22,
   "metadata": {
    "collapsed": true
   },
   "outputs": [],
   "source": [
    "class Stack:\n",
    "    \n",
    "    def __init__(self):\n",
    "        self._items = []\n",
    "    \n",
    "    def push(self, item):\n",
    "        self._items.append(item)\n",
    "        \n",
    "    def pop(self):\n",
    "        return self._items.pop()\n",
    "    \n",
    "    def isEmpty(self):\n",
    "        return self._items == []\n",
    "    \n",
    "    def size(self):\n",
    "        return len(self._items)\n",
    "    \n",
    "    def peek(self):\n",
    "        return self._items[len(self._items)-1]"
   ]
  },
  {
   "cell_type": "markdown",
   "metadata": {},
   "source": [
    "**1.2 Balance Parentheses**"
   ]
  },
  {
   "cell_type": "code",
   "execution_count": 13,
   "metadata": {
    "collapsed": false
   },
   "outputs": [
    {
     "data": {
      "text/plain": [
       "True"
      ]
     },
     "execution_count": 13,
     "metadata": {},
     "output_type": "execute_result"
    }
   ],
   "source": [
    "def parChecker(symbol_string):\n",
    "    \n",
    "    s = Stack()\n",
    "    idx = 0;\n",
    "    \n",
    "    while (idx<len(symbol_string)):\n",
    "        symbol = symbol_string[idx]\n",
    "        if symbol in \"([{\":\n",
    "            s.push(symbol)\n",
    "        else:\n",
    "            if (s.isEmpty()):\n",
    "                return False\n",
    "            else:\n",
    "                top = s.pop()\n",
    "                if (not match_symbol(top, symbol)):\n",
    "                    return False\n",
    "        idx += 1\n",
    "    \n",
    "    if (s.isEmpty()):\n",
    "        return True\n",
    "    else:\n",
    "        return False        \n",
    "    \n",
    "def match_symbol(s1, s2):\n",
    "    left = \"([{\"\n",
    "    right = \")]}\"\n",
    "    return left.index(s1) == right.index(s2)\n",
    "    \n",
    "parChecker('{{([][])}()}')"
   ]
  },
  {
   "cell_type": "code",
   "execution_count": 14,
   "metadata": {
    "collapsed": false
   },
   "outputs": [
    {
     "data": {
      "text/plain": [
       "False"
      ]
     },
     "execution_count": 14,
     "metadata": {},
     "output_type": "execute_result"
    }
   ],
   "source": [
    "parChecker('[{()]')"
   ]
  },
  {
   "cell_type": "markdown",
   "metadata": {},
   "source": [
    "**1.3 Converting Decimal Numbers to Binary Numbers**"
   ]
  },
  {
   "cell_type": "code",
   "execution_count": 12,
   "metadata": {
    "collapsed": false
   },
   "outputs": [
    {
     "data": {
      "text/plain": [
       "'11101001'"
      ]
     },
     "execution_count": 12,
     "metadata": {},
     "output_type": "execute_result"
    }
   ],
   "source": [
    "def toBinary(dec):\n",
    "    s = Stack()\n",
    "    while (dec > 0):\n",
    "        rem = dec % 2\n",
    "        s.push(rem)\n",
    "        dec = dec / 2\n",
    "    ans = \"\"\n",
    "    while (not s.isEmpty()):\n",
    "        ans += str(s.pop())\n",
    "        \n",
    "    return ans\n",
    "\n",
    "toBinary(233)"
   ]
  },
  {
   "cell_type": "markdown",
   "metadata": {},
   "source": [
    "**1.4 Infix to Postfix**  \n",
    "- 如果是数字，append进入postfixList\n",
    "- 如果是 ( , 把它push进stack\n",
    "- 如果是 ) ， 把stack里的东西都pop()出来，直到遇见 )， 把pop出来的东西都append进postfixList\n",
    "- 如果是 加减乘除符号， 那么把Stack里面比当前运算符优先级高的或者相等的都pop出来并且append到postfixList里，然后把当前运算符push进stack\n"
   ]
  },
  {
   "cell_type": "code",
   "execution_count": 26,
   "metadata": {
    "collapsed": false
   },
   "outputs": [
    {
     "data": {
      "text/plain": [
       "'3 5 + 7 4 + *'"
      ]
     },
     "execution_count": 26,
     "metadata": {},
     "output_type": "execute_result"
    }
   ],
   "source": [
    "def infixToPostfix(infixexpr):\n",
    "    \n",
    "    opStack = Stack()\n",
    "    postfixList = []\n",
    "    tokenList = infixexpr.split()\n",
    "    prec = {}\n",
    "    prec[\"*\"] = 3\n",
    "    prec[\"/\"] = 3\n",
    "    prec[\"+\"] = 2\n",
    "    prec[\"-\"] = 2\n",
    "    prec[\"(\"] = 1\n",
    "    \n",
    "    for token in tokenList:\n",
    "        if token in \"0123456789\":\n",
    "            postfixList.append(token)\n",
    "            \n",
    "        elif token == \"(\":\n",
    "            opStack.push(token)\n",
    "            \n",
    "        elif token == \")\":\n",
    "            topToken = opStack.pop()\n",
    "            while topToken != \"(\":\n",
    "                postfixList.append(topToken)\n",
    "                topToken = opStack.pop()\n",
    "                \n",
    "        else:\n",
    "            while (not opStack.isEmpty()) and (prec[opStack.peek()] >= prec[token]):\n",
    "                #注意，这两个条件的先后顺序，错了的话，会有error。\n",
    "                postfixList.append(opStack.pop())    \n",
    "            opStack.push(token)\n",
    "    \n",
    "    while (not opStack.isEmpty()):\n",
    "        postfixList.append(opStack.pop())\n",
    "    \n",
    "    return \" \".join(postfixList)\n",
    "\n",
    "\n",
    "infixToPostfix(\"( 3 + 5 ) * ( 7 + 4 )\")    "
   ]
  },
  {
   "cell_type": "markdown",
   "metadata": {},
   "source": [
    "**1.5 Evaluate Postfix**  \n",
    "- 如果是数字，push进stack  \n",
    "- 如果是运算符， 连续pop出来两个数字，然后做一下运算得出来一个数，再把这个数push进stack。"
   ]
  },
  {
   "cell_type": "code",
   "execution_count": 28,
   "metadata": {
    "collapsed": false
   },
   "outputs": [
    {
     "data": {
      "text/plain": [
       "88"
      ]
     },
     "execution_count": 28,
     "metadata": {},
     "output_type": "execute_result"
    }
   ],
   "source": [
    "def postfixEval(postfixExpr):\n",
    "    stk = Stack()\n",
    "    postfixList = postfixExpr.split()\n",
    "    \n",
    "    for token in postfixList:\n",
    "        if token in \"0123456789\":\n",
    "            stk.push(token)\n",
    "        else:\n",
    "            num1 = int(stk.pop())\n",
    "            num2 = int(stk.pop())\n",
    "            if token == \"+\":\n",
    "                num = num1 + num2\n",
    "            elif token == \"-\":\n",
    "                num = num1 + num2\n",
    "            elif token == \"*\":\n",
    "                num = num1 * num2\n",
    "            else:\n",
    "                num = num1 / num2\n",
    "            stk.push(num)\n",
    "    return stk.pop()\n",
    "\n",
    "postfixEval(infixToPostfix(\"( 3 + 5 ) * ( 7 + 4 )\"))"
   ]
  },
  {
   "cell_type": "markdown",
   "metadata": {},
   "source": [
    "##2. Queue"
   ]
  },
  {
   "cell_type": "markdown",
   "metadata": {},
   "source": [
    "**2.1 Implementation**"
   ]
  },
  {
   "cell_type": "code",
   "execution_count": 29,
   "metadata": {
    "collapsed": true
   },
   "outputs": [],
   "source": [
    "class Queue:\n",
    "    \n",
    "    def __init__(self):\n",
    "        self._items = []\n",
    "        \n",
    "    def enqueue(self, item):\n",
    "        self._items.append(item)\n",
    "        \n",
    "    def dequeue(self):\n",
    "        return self._items.pop(0)\n",
    "    \n",
    "    def isEmpty(self):\n",
    "        return self._items == []\n",
    "    \n",
    "    def size(self):\n",
    "        return len(self._items)\n",
    "    \n",
    "    def peek(self):\n",
    "        return self._items[0]      "
   ]
  },
  {
   "cell_type": "markdown",
   "metadata": {},
   "source": [
    "**2.2 Printing Task Simulation**  \n",
    "  \n",
    "Assumption:  \n",
    "- 10 students in the lab at any given hour, each student print twice, which means 1 task/180 seconds on average.  \n",
    "- each printing task ranges from 1 to 20 pages.  \n",
    "- printer efficiency: 10 pages/min or 5 pages/min  \n",
    "\n",
    "Question:  \n",
    "  *What printing rate should be used?*  \n",
    "\n",
    "  \n",
    "设计：  \n",
    "  \n"
   ]
  },
  {
   "cell_type": "code",
   "execution_count": null,
   "metadata": {
    "collapsed": true
   },
   "outputs": [],
   "source": [
    "class printer:\n",
    "    \n",
    "    def __init__(self, ppm):\n",
    "        self._printRate = ppm\n",
    "        self._currentTask = None\n",
    "        self._timeRemaining = 0\n",
    "        \n",
    "class Task:\n",
    "    \n",
    "    def __init__(self\n",
    "        \n",
    "    "
   ]
  }
 ],
 "metadata": {
  "kernelspec": {
   "display_name": "Python 2",
   "language": "python",
   "name": "python2"
  },
  "language_info": {
   "codemirror_mode": {
    "name": "ipython",
    "version": 2
   },
   "file_extension": ".py",
   "mimetype": "text/x-python",
   "name": "python",
   "nbconvert_exporter": "python",
   "pygments_lexer": "ipython2",
   "version": "2.7.9"
  }
 },
 "nbformat": 4,
 "nbformat_minor": 0
}
